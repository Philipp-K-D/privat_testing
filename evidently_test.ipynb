{
 "cells": [
  {
   "cell_type": "code",
   "execution_count": null,
   "id": "de0d78d6",
   "metadata": {},
   "outputs": [],
   "source": [
    "import pandas as pd\n",
    "from sklearn import datasets\n",
    "    \n",
    "from evidently import Dataset\n",
    "from evidently import DataDefinition\n",
    "from evidently import Report\n",
    "from evidently.presets import DataDriftPreset, DataSummaryPreset"
   ]
  },
  {
   "cell_type": "code",
   "execution_count": null,
   "id": "1b8df364",
   "metadata": {},
   "outputs": [],
   "source": [
    "adult_data = datasets.fetch_openml(name=\"adult\", version=2, as_frame=\"auto\")\n",
    "adult = adult_data.frame"
   ]
  },
  {
   "cell_type": "code",
   "execution_count": null,
   "id": "a39e9188",
   "metadata": {},
   "outputs": [],
   "source": [
    "adult_ref = adult[~adult.education.isin([\"Some-college\", \"HS-grad\", \"Bachelors\"])]\n",
    "adult_prod = adult[adult.education.isin([\"Some-college\", \"HS-grad\", \"Bachelors\"])]"
   ]
  },
  {
   "cell_type": "code",
   "execution_count": null,
   "id": "875b0638",
   "metadata": {},
   "outputs": [],
   "source": [
    "schema = DataDefinition(\n",
    "    numerical_columns=[\"education-num\", \"age\", \"capital-gain\", \"hours-per-week\", \"capital-loss\", \"fnlwgt\"],\n",
    "    categorical_columns=[\"education\", \"occupation\", \"native-country\", \"workclass\", \"marital-status\", \"relationship\", \"race\", \"sex\", \"class\"],\n",
    "    )"
   ]
  },
  {
   "cell_type": "code",
   "execution_count": null,
   "id": "4504e237",
   "metadata": {},
   "outputs": [],
   "source": [
    "eval_data_1 = Dataset.from_pandas(\n",
    "    pd.DataFrame(adult_prod),\n",
    "    data_definition=schema\n",
    ")\n",
    "\n",
    "eval_data_2 = Dataset.from_pandas(\n",
    "    pd.DataFrame(adult_ref),\n",
    "    data_definition=schema\n",
    ")"
   ]
  },
  {
   "cell_type": "code",
   "execution_count": null,
   "id": "0bc1802e",
   "metadata": {},
   "outputs": [],
   "source": [
    "report = Report([\n",
    "    DataDriftPreset() \n",
    "])\n",
    "\n",
    "my_eval = report.run(eval_data_1, eval_data_2)"
   ]
  },
  {
   "cell_type": "code",
   "execution_count": null,
   "id": "4309f057",
   "metadata": {},
   "outputs": [],
   "source": [
    "my_eval"
   ]
  },
  {
   "cell_type": "code",
   "execution_count": null,
   "id": "232e834a",
   "metadata": {},
   "outputs": [],
   "source": [
    "report = Report([\n",
    "    DataSummaryPreset() \n",
    "],\n",
    "include_tests=\"True\")\n",
    "my_eval_1 = report.run(eval_data_1, eval_data_2)"
   ]
  },
  {
   "cell_type": "code",
   "execution_count": null,
   "id": "7fcd760b",
   "metadata": {},
   "outputs": [],
   "source": [
    "my_eval_1"
   ]
  }
 ],
 "metadata": {
  "kernelspec": {
   "display_name": "venv",
   "language": "python",
   "name": "python3"
  },
  "language_info": {
   "codemirror_mode": {
    "name": "ipython",
    "version": 3
   },
   "file_extension": ".py",
   "mimetype": "text/x-python",
   "name": "python",
   "nbconvert_exporter": "python",
   "pygments_lexer": "ipython3",
   "version": "3.13.5"
  }
 },
 "nbformat": 4,
 "nbformat_minor": 5
}
